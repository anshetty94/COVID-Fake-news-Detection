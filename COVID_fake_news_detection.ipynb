{
 "cells": [
  {
   "cell_type": "code",
   "execution_count": 1,
   "metadata": {},
   "outputs": [],
   "source": [
    "import pandas as pd\n",
    "import re\n",
    "from nltk.stem.porter import PorterStemmer\n",
    "from sklearn.feature_extraction.text import TfidfVectorizer\n",
    "from sklearn.model_selection import train_test_split\n",
    "from sklearn.linear_model import LogisticRegressionCV"
   ]
  },
  {
   "cell_type": "code",
   "execution_count": 2,
   "metadata": {},
   "outputs": [
    {
     "data": {
      "text/html": [
       "<div>\n",
       "<style scoped>\n",
       "    .dataframe tbody tr th:only-of-type {\n",
       "        vertical-align: middle;\n",
       "    }\n",
       "\n",
       "    .dataframe tbody tr th {\n",
       "        vertical-align: top;\n",
       "    }\n",
       "\n",
       "    .dataframe thead th {\n",
       "        text-align: right;\n",
       "    }\n",
       "</style>\n",
       "<table border=\"1\" class=\"dataframe\">\n",
       "  <thead>\n",
       "    <tr style=\"text-align: right;\">\n",
       "      <th></th>\n",
       "      <th>title</th>\n",
       "      <th>text</th>\n",
       "      <th>source</th>\n",
       "      <th>label</th>\n",
       "    </tr>\n",
       "  </thead>\n",
       "  <tbody>\n",
       "    <tr>\n",
       "      <td>0</td>\n",
       "      <td>Due to the recent outbreak for the Coronavirus...</td>\n",
       "      <td>You just need to add water, and the drugs and ...</td>\n",
       "      <td>coronavirusmedicalkit.com</td>\n",
       "      <td>Fake</td>\n",
       "    </tr>\n",
       "    <tr>\n",
       "      <td>1</td>\n",
       "      <td>NaN</td>\n",
       "      <td>Hydroxychloroquine has been shown to have a 10...</td>\n",
       "      <td>RudyGiuliani</td>\n",
       "      <td>Fake</td>\n",
       "    </tr>\n",
       "    <tr>\n",
       "      <td>2</td>\n",
       "      <td>NaN</td>\n",
       "      <td>Fact: Hydroxychloroquine has been shown to hav...</td>\n",
       "      <td>CharlieKirk</td>\n",
       "      <td>Fake</td>\n",
       "    </tr>\n",
       "    <tr>\n",
       "      <td>3</td>\n",
       "      <td>NaN</td>\n",
       "      <td>The Corona virus is a man made virus created i...</td>\n",
       "      <td>JoanneWrightForCongress</td>\n",
       "      <td>Fake</td>\n",
       "    </tr>\n",
       "    <tr>\n",
       "      <td>4</td>\n",
       "      <td>NaN</td>\n",
       "      <td>Doesn’t @BillGates finance research at the Wuh...</td>\n",
       "      <td>JoanneWrightForCongress</td>\n",
       "      <td>Fake</td>\n",
       "    </tr>\n",
       "  </tbody>\n",
       "</table>\n",
       "</div>"
      ],
      "text/plain": [
       "                                               title  \\\n",
       "0  Due to the recent outbreak for the Coronavirus...   \n",
       "1                                                NaN   \n",
       "2                                                NaN   \n",
       "3                                                NaN   \n",
       "4                                                NaN   \n",
       "\n",
       "                                                text  \\\n",
       "0  You just need to add water, and the drugs and ...   \n",
       "1  Hydroxychloroquine has been shown to have a 10...   \n",
       "2  Fact: Hydroxychloroquine has been shown to hav...   \n",
       "3  The Corona virus is a man made virus created i...   \n",
       "4  Doesn’t @BillGates finance research at the Wuh...   \n",
       "\n",
       "                      source label  \n",
       "0  coronavirusmedicalkit.com  Fake  \n",
       "1               RudyGiuliani  Fake  \n",
       "2                CharlieKirk  Fake  \n",
       "3    JoanneWrightForCongress  Fake  \n",
       "4    JoanneWrightForCongress  Fake  "
      ]
     },
     "execution_count": 2,
     "metadata": {},
     "output_type": "execute_result"
    }
   ],
   "source": [
    "df = pd.read_csv('corona_fake.csv')\n",
    "df.head()"
   ]
  },
  {
   "cell_type": "code",
   "execution_count": 3,
   "metadata": {},
   "outputs": [
    {
     "data": {
      "text/plain": [
       "(1164, 4)"
      ]
     },
     "execution_count": 3,
     "metadata": {},
     "output_type": "execute_result"
    }
   ],
   "source": [
    "df.shape"
   ]
  },
  {
   "cell_type": "markdown",
   "metadata": {},
   "source": [
    "* we have 1164 rows and 4 columns"
   ]
  },
  {
   "cell_type": "code",
   "execution_count": 4,
   "metadata": {},
   "outputs": [
    {
     "name": "stdout",
     "output_type": "stream",
     "text": [
      "<class 'pandas.core.frame.DataFrame'>\n",
      "RangeIndex: 1164 entries, 0 to 1163\n",
      "Data columns (total 4 columns):\n",
      "title     1082 non-null object\n",
      "text      1154 non-null object\n",
      "source    1144 non-null object\n",
      "label     1159 non-null object\n",
      "dtypes: object(4)\n",
      "memory usage: 36.5+ KB\n"
     ]
    }
   ],
   "source": [
    "df.info()"
   ]
  },
  {
   "cell_type": "code",
   "execution_count": 5,
   "metadata": {},
   "outputs": [
    {
     "data": {
      "text/plain": [
       "title     82\n",
       "text      10\n",
       "source    20\n",
       "label      5\n",
       "dtype: int64"
      ]
     },
     "execution_count": 5,
     "metadata": {},
     "output_type": "execute_result"
    }
   ],
   "source": [
    "df.isnull().sum()"
   ]
  },
  {
   "cell_type": "code",
   "execution_count": 6,
   "metadata": {},
   "outputs": [
    {
     "data": {
      "text/plain": [
       "title      973\n",
       "text      1114\n",
       "source     269\n",
       "label        3\n",
       "dtype: int64"
      ]
     },
     "execution_count": 6,
     "metadata": {},
     "output_type": "execute_result"
    }
   ],
   "source": [
    "df.nunique()"
   ]
  },
  {
   "cell_type": "code",
   "execution_count": 7,
   "metadata": {},
   "outputs": [
    {
     "data": {
      "text/plain": [
       "array(['Fake', nan, 'TRUE', 'fake'], dtype=object)"
      ]
     },
     "execution_count": 7,
     "metadata": {},
     "output_type": "execute_result"
    }
   ],
   "source": [
    "df.label.unique()"
   ]
  },
  {
   "cell_type": "markdown",
   "metadata": {},
   "source": [
    "* we see that FAKE is written in different forms."
   ]
  },
  {
   "cell_type": "code",
   "execution_count": 8,
   "metadata": {},
   "outputs": [],
   "source": [
    "# replace other forms of fake to one unique form \n",
    "df.loc[df['label'] == 'Fake', ['label']] = 'FAKE'\n",
    "df.loc[df['label'] == 'fake', ['label']] = 'FAKE'"
   ]
  },
  {
   "cell_type": "code",
   "execution_count": 9,
   "metadata": {},
   "outputs": [],
   "source": [
    "df.text.fillna(df.title, inplace=True)"
   ]
  },
  {
   "cell_type": "code",
   "execution_count": 10,
   "metadata": {},
   "outputs": [],
   "source": [
    "df = df.sample(frac=1).reset_index(drop=True)\n",
    "df.title.fillna('missing', inplace=True)\n",
    "df.source.fillna('missing', inplace=True)"
   ]
  },
  {
   "cell_type": "code",
   "execution_count": 11,
   "metadata": {},
   "outputs": [],
   "source": [
    "df['title_text'] = df['title'] + ' ' + df['text']"
   ]
  },
  {
   "cell_type": "code",
   "execution_count": 12,
   "metadata": {},
   "outputs": [],
   "source": [
    "df.dropna(inplace=True)"
   ]
  },
  {
   "cell_type": "code",
   "execution_count": 13,
   "metadata": {},
   "outputs": [
    {
     "data": {
      "text/plain": [
       "array(['TRUE', 'FAKE'], dtype=object)"
      ]
     },
     "execution_count": 13,
     "metadata": {},
     "output_type": "execute_result"
    }
   ],
   "source": [
    "df.label.unique()"
   ]
  },
  {
   "cell_type": "code",
   "execution_count": 14,
   "metadata": {},
   "outputs": [
    {
     "data": {
      "text/html": [
       "<div>\n",
       "<style scoped>\n",
       "    .dataframe tbody tr th:only-of-type {\n",
       "        vertical-align: middle;\n",
       "    }\n",
       "\n",
       "    .dataframe tbody tr th {\n",
       "        vertical-align: top;\n",
       "    }\n",
       "\n",
       "    .dataframe thead th {\n",
       "        text-align: right;\n",
       "    }\n",
       "</style>\n",
       "<table border=\"1\" class=\"dataframe\">\n",
       "  <thead>\n",
       "    <tr style=\"text-align: right;\">\n",
       "      <th></th>\n",
       "      <th>title</th>\n",
       "      <th>text</th>\n",
       "      <th>source</th>\n",
       "      <th>label</th>\n",
       "      <th>title_text</th>\n",
       "    </tr>\n",
       "  </thead>\n",
       "  <tbody>\n",
       "    <tr>\n",
       "      <td>0</td>\n",
       "      <td>What Is Coronavirus?</td>\n",
       "      <td>COVID-19 is the disease caused by the new coro...</td>\n",
       "      <td>https://www.hopkinsmedicine.org/</td>\n",
       "      <td>TRUE</td>\n",
       "      <td>What Is Coronavirus? COVID-19 is the disease c...</td>\n",
       "    </tr>\n",
       "    <tr>\n",
       "      <td>1</td>\n",
       "      <td>COVID-19 Coronavirus: A False Pandemic? Who is...</td>\n",
       "      <td>The hype and disinformation campaign about the...</td>\n",
       "      <td>https://www.mondialisation.ca/</td>\n",
       "      <td>FAKE</td>\n",
       "      <td>COVID-19 Coronavirus: A False Pandemic? Who is...</td>\n",
       "    </tr>\n",
       "    <tr>\n",
       "      <td>2</td>\n",
       "      <td>Fauci knew about HCQ in 2005 -- nobody needed ...</td>\n",
       "      <td>Dr. Anthony Fauci, whose “expert” advice to Pr...</td>\n",
       "      <td>https://onenewsnow.com/</td>\n",
       "      <td>FAKE</td>\n",
       "      <td>Fauci knew about HCQ in 2005 -- nobody needed ...</td>\n",
       "    </tr>\n",
       "    <tr>\n",
       "      <td>3</td>\n",
       "      <td>What is cryptic transmission, and what is its ...</td>\n",
       "      <td>Cryptic transmission is the term that is used ...</td>\n",
       "      <td>https://www.globalhealthnow.org/</td>\n",
       "      <td>TRUE</td>\n",
       "      <td>What is cryptic transmission, and what is its ...</td>\n",
       "    </tr>\n",
       "    <tr>\n",
       "      <td>4</td>\n",
       "      <td>This review outlines Traditional Chinese Medic...</td>\n",
       "      <td>Since the outbreak of 2019 novel coronavirus i...</td>\n",
       "      <td>https://web.archive.org/</td>\n",
       "      <td>FAKE</td>\n",
       "      <td>This review outlines Traditional Chinese Medic...</td>\n",
       "    </tr>\n",
       "  </tbody>\n",
       "</table>\n",
       "</div>"
      ],
      "text/plain": [
       "                                               title  \\\n",
       "0                               What Is Coronavirus?   \n",
       "1  COVID-19 Coronavirus: A False Pandemic? Who is...   \n",
       "2  Fauci knew about HCQ in 2005 -- nobody needed ...   \n",
       "3  What is cryptic transmission, and what is its ...   \n",
       "4  This review outlines Traditional Chinese Medic...   \n",
       "\n",
       "                                                text  \\\n",
       "0  COVID-19 is the disease caused by the new coro...   \n",
       "1  The hype and disinformation campaign about the...   \n",
       "2  Dr. Anthony Fauci, whose “expert” advice to Pr...   \n",
       "3  Cryptic transmission is the term that is used ...   \n",
       "4  Since the outbreak of 2019 novel coronavirus i...   \n",
       "\n",
       "                             source label  \\\n",
       "0  https://www.hopkinsmedicine.org/  TRUE   \n",
       "1    https://www.mondialisation.ca/  FAKE   \n",
       "2           https://onenewsnow.com/  FAKE   \n",
       "3  https://www.globalhealthnow.org/  TRUE   \n",
       "4          https://web.archive.org/  FAKE   \n",
       "\n",
       "                                          title_text  \n",
       "0  What Is Coronavirus? COVID-19 is the disease c...  \n",
       "1  COVID-19 Coronavirus: A False Pandemic? Who is...  \n",
       "2  Fauci knew about HCQ in 2005 -- nobody needed ...  \n",
       "3  What is cryptic transmission, and what is its ...  \n",
       "4  This review outlines Traditional Chinese Medic...  "
      ]
     },
     "execution_count": 14,
     "metadata": {},
     "output_type": "execute_result"
    }
   ],
   "source": [
    "df.head()"
   ]
  },
  {
   "cell_type": "code",
   "execution_count": 15,
   "metadata": {},
   "outputs": [
    {
     "data": {
      "text/plain": [
       "TRUE    584\n",
       "FAKE    575\n",
       "Name: label, dtype: int64"
      ]
     },
     "execution_count": 15,
     "metadata": {},
     "output_type": "execute_result"
    }
   ],
   "source": [
    "df['label'].value_counts()"
   ]
  },
  {
   "cell_type": "code",
   "execution_count": 16,
   "metadata": {},
   "outputs": [
    {
     "data": {
      "text/plain": [
       "'COVID-19 and the CIA’s Biological Warfare on Cuba Maybe it was a plan that went horribly wrong, something they could no longer control. Was the Corona virus or COVID-19 spread intentionally? What if this virus was used against China as a weapon of choice to destabilize China’s economy and push back against China’s growing influence? We don’t know for sure, but it is possible. Investigations are ongoing. Nothing has not been confirmed.But what has been confirmed is what history has taught us given the facts on how the use of biological warfare for various purposes, against many peoples and nations has been happening for some time. One of the most well-known incidents of biological warfare occurred in 1763, the British Empire had planned and successfully managed to spread smallpox virus to the Native Americans during the Pontiac Rebellion in Pennsylvania. Chief Pontiac of the Ottawa launched an attack on Fort Detroit, a British military base. Other nations joined the rebellion including the Senecas, the Hurons, Delawares, and Miamis. As the war raged, an Indian delegation asked the British to surrender, but they refused, however, the British offered gifts including food, alcohol and material items that included two blankets and a handkerchief from people who had smallpox. Although the American Indians had experienced the disease in the past, the idea was to spread the disease among the Native American populations in an attempt to push back the rebellion or to defeat it once and for all.Another example of biological warfare was when Imperial Japan before and during World War II had a bio-weapons program that managed to drop numerous bombs on a number of Chinese cities from airplanes killing an estimated 580,000 Chinese people with bombs that were made of infected fleas, some even contained cholera and shigella during the Sino-Japanese war between the 1930′s and 1940′s.In 1981, the CIA with help from U.S. military had launched an operation against Cuba by unleashing a strain of Dengue Fever also known as “hemorrhagic fever’ effecting more than 273,000 people killing 158 including 101 children. On September 6, 1981, The New York Times reported on Fidel Castro’s comments regarding the U.S. government in particularly, blaming the CIA for the outbreak when he said that”we urge the United States Government to define its policy in this field, to say whether the C.I.A. will or will not be authorized again- or has already been authorized – to organize attacks against leaders of the revolution and to use plagues against our plants, our animals and our people.”The report said that the“epidemic of dengue fever that has made 340,000 people ill and has killed about 150″ but the State Department under-then President Ronald Reagan stated that “Mr. Castro’s charges of possible United States involvement in the epidemic were ”totally without foundation.” The State department quickly blamed the Castro’s revolution as a failure:The Geopolitical Deployment of Biological Weapons.The Cuban Government has always tried to blame the United States for its failures and its internal problems,” the department said. ”The Cuban revolution is a failure, and it is obviously easier to blame external forces like the United States than to admit those failures”.Dr, Ronald St. John, chief of communicable diseases for the Pan American Health Organization was interviewed by the New York Times said that “for the first time, so-called dengue-2 spread to Cuba.” Dr. St. John claimed that it is common in Southeast Asia and that it produces.“the same symptoms as the other three” and that ”if you get a wave of dengue-1, dengue-3 or dengue-4 and then another wave of type 2, this is a bad combination.”Dengue-2 causes you too loose body fluids causing shocks that can lead to eventually death. Convenient for the CIA who saw it as an opportunity to cause panic on Cuba which is located in one of the most hot and humid regions in the world. However, The New York Times managed to downplay Cuba’s accusation’s by ending the story by blaming the spread of the disease on returning Cuban troops from Africa and other people from other parts of the Caribbean who might have brought Dengue fever into Cuba:Some State Department officials believe the introduction of dengue-2 into Cuba is a result of the return to Cuba of troops who had been stationed in Angola or elsewhere in Africa, where the strain is found. But Dr. St. John said dengue-2 had been found in other parts of the Caribbean and might have been carried to Cuba from there or elsewhere overseas.Reports suggested that Cuba had a very small number of cases in 1944, and again in 1977. The 1981 outbreak was blamed on covert flyover operations conducted by the CIA with military owned airplanes, you know, the same airplanes that were most probably used against Nicaragua’s Sandinistas to transport weapons and other materials to the Contras around the same time.Since the 20th century, the U.S. has been the leader in developing various biological and chemical weapons through the U.S. Army’s Biological Warfare Laboratories based at Fort Detrick, Maryland since the late 1940′s, around the start of the Cold War.The U.S. biological warfare program that supposedly ended in 1969 developed a handful of biological weapons ready for use including anthrax, Q-fever and botulism and conducted research in hopes of weaponizing diseases including smallpox, Hantavirus, Lassa fever, yellow fever, typhus, dengue fever and the bird flu among them.An article from August 6, 2019 on Fort Detrick from the UK’s ‘The Independent’ titled ‘Research into deadly viruses and biological weapons at US army lab shut down over fears they could escape’ last August. Ironically, Secretary of State and Neocon Mike Pompeo called it the “Wuhan virus” since they blame China for the outbreak, but it seems that the U.S. had its own problems when it comes to their own labs who conduct research with the most deadly viruses:America’s main biological warfare lab has been ordered to stop all research into the deadliest viruses and pathogens over fears contaminated waste could leak out of the facility. Fort Detrick, in Maryland, has been the epicentre of the US Army’s bioweapons research since the beginning of the Cold War. But last month the Centers for Disease Control and Prevention (CDC) – the government’s public health body – stripped the base of its license to handle highly restricted “select agents”, which includes Ebola, smallpox and anthrax. The story was basically about the CDC who inspected Fort Detrick and found problems with new procedures used to decontaminate waste water. The article says that Fort Detrick continued its research for defensive purposes to “protect the warfighter from biological threats” although the U.S. declared that it abandoned their biological weapons program since 1969:Although the United States officially abandoned its biological weapons programme in 1969, Fort Detrick has continued defensive research into deadly pathogens on the list of “select agents”, including the Ebola virus, the organisms that cause the plague, and the highly toxic poison ricin. The army’s Medical Research Institute of Infectious Diseases, based at Fort Detrick, says its primary mission today is to “protect the warfighter from biological threats” but its scientists also investigate outbreaks of disease among civilians and other threats to public health. In recent years it has been involved in testing possible vaccines for Ebola, after several epidemics of the deadly virus in Africa.Sooner or later, the truth will come out. I believe that the U.S. government knows how COVID-19 began and where it was going. The U.S. government and major corporate arms manufacturers and the rest of the Military-Industrial Complex is no stranger to biological weapons adding to their arsenal of nuclear and chemical weapons at their disposal which makes them, much more dangerous. The truth about COVID-19 will eventually come out. In the meantime, as the COVID-19 pandemic continues, a war against Russia, China, Iran or Venezuela is in the works and a coming economic crisis with an election coming this November seems like 2020 will be the year of a perfect storm.'"
      ]
     },
     "execution_count": 16,
     "metadata": {},
     "output_type": "execute_result"
    }
   ],
   "source": [
    "df['title_text'][50]"
   ]
  },
  {
   "cell_type": "code",
   "execution_count": 17,
   "metadata": {},
   "outputs": [],
   "source": [
    "def preprocessor(text):\n",
    "    \n",
    "    text = re.sub('<[^>]*>', '', text)\n",
    "    text = re.sub(r'[^\\w\\s]','', text)\n",
    "    text = text.lower()\n",
    "\n",
    "    return text"
   ]
  },
  {
   "cell_type": "code",
   "execution_count": 18,
   "metadata": {},
   "outputs": [],
   "source": [
    "df['title_text'] = df['title_text'].apply(preprocessor)"
   ]
  },
  {
   "cell_type": "code",
   "execution_count": 19,
   "metadata": {},
   "outputs": [
    {
     "data": {
      "text/plain": [
       "'covid19 and the cias biological warfare on cuba maybe it was a plan that went horribly wrong something they could no longer control was the corona virus or covid19 spread intentionally what if this virus was used against china as a weapon of choice to destabilize chinas economy and push back against chinas growing influence we dont know for sure but it is possible investigations are ongoing nothing has not been confirmedbut what has been confirmed is what history has taught us given the facts on how the use of biological warfare for various purposes against many peoples and nations has been happening for some time one of the most wellknown incidents of biological warfare occurred in 1763 the british empire had planned and successfully managed to spread smallpox virus to the native americans during the pontiac rebellion in pennsylvania chief pontiac of the ottawa launched an attack on fort detroit a british military base other nations joined the rebellion including the senecas the hurons delawares and miamis as the war raged an indian delegation asked the british to surrender but they refused however the british offered gifts including food alcohol and material items that included two blankets and a handkerchief from people who had smallpox although the american indians had experienced the disease in the past the idea was to spread the disease among the native american populations in an attempt to push back the rebellion or to defeat it once and for allanother example of biological warfare was when imperial japan before and during world war ii had a bioweapons program that managed to drop numerous bombs on a number of chinese cities from airplanes killing an estimated 580000 chinese people with bombs that were made of infected fleas some even contained cholera and shigella during the sinojapanese war between the 1930s and 1940sin 1981 the cia with help from us military had launched an operation against cuba by unleashing a strain of dengue fever also known as hemorrhagic fever effecting more than 273000 people killing 158 including 101 children on september 6 1981 the new york times reported on fidel castros comments regarding the us government in particularly blaming the cia for the outbreak when he said thatwe urge the united states government to define its policy in this field to say whether the cia will or will not be authorized again or has already been authorized  to organize attacks against leaders of the revolution and to use plagues against our plants our animals and our peoplethe report said that theepidemic of dengue fever that has made 340000 people ill and has killed about 150 but the state department underthen president ronald reagan stated that mr castros charges of possible united states involvement in the epidemic were totally without foundation the state department quickly blamed the castros revolution as a failurethe geopolitical deployment of biological weaponsthe cuban government has always tried to blame the united states for its failures and its internal problems the department said the cuban revolution is a failure and it is obviously easier to blame external forces like the united states than to admit those failuresdr ronald st john chief of communicable diseases for the pan american health organization was interviewed by the new york times said that for the first time socalled dengue2 spread to cuba dr st john claimed that it is common in southeast asia and that it producesthe same symptoms as the other three and that if you get a wave of dengue1 dengue3 or dengue4 and then another wave of type 2 this is a bad combinationdengue2 causes you too loose body fluids causing shocks that can lead to eventually death convenient for the cia who saw it as an opportunity to cause panic on cuba which is located in one of the most hot and humid regions in the world however the new york times managed to downplay cubas accusations by ending the story by blaming the spread of the disease on returning cuban troops from africa and other people from other parts of the caribbean who might have brought dengue fever into cubasome state department officials believe the introduction of dengue2 into cuba is a result of the return to cuba of troops who had been stationed in angola or elsewhere in africa where the strain is found but dr st john said dengue2 had been found in other parts of the caribbean and might have been carried to cuba from there or elsewhere overseasreports suggested that cuba had a very small number of cases in 1944 and again in 1977 the 1981 outbreak was blamed on covert flyover operations conducted by the cia with military owned airplanes you know the same airplanes that were most probably used against nicaraguas sandinistas to transport weapons and other materials to the contras around the same timesince the 20th century the us has been the leader in developing various biological and chemical weapons through the us armys biological warfare laboratories based at fort detrick maryland since the late 1940s around the start of the cold warthe us biological warfare program that supposedly ended in 1969 developed a handful of biological weapons ready for use including anthrax qfever and botulism and conducted research in hopes of weaponizing diseases including smallpox hantavirus lassa fever yellow fever typhus dengue fever and the bird flu among theman article from august 6 2019 on fort detrick from the uks the independent titled research into deadly viruses and biological weapons at us army lab shut down over fears they could escape last august ironically secretary of state and neocon mike pompeo called it the wuhan virus since they blame china for the outbreak but it seems that the us had its own problems when it comes to their own labs who conduct research with the most deadly virusesamericas main biological warfare lab has been ordered to stop all research into the deadliest viruses and pathogens over fears contaminated waste could leak out of the facility fort detrick in maryland has been the epicentre of the us armys bioweapons research since the beginning of the cold war but last month the centers for disease control and prevention cdc  the governments public health body  stripped the base of its license to handle highly restricted select agents which includes ebola smallpox and anthrax the story was basically about the cdc who inspected fort detrick and found problems with new procedures used to decontaminate waste water the article says that fort detrick continued its research for defensive purposes to protect the warfighter from biological threats although the us declared that it abandoned their biological weapons program since 1969although the united states officially abandoned its biological weapons programme in 1969 fort detrick has continued defensive research into deadly pathogens on the list of select agents including the ebola virus the organisms that cause the plague and the highly toxic poison ricin the armys medical research institute of infectious diseases based at fort detrick says its primary mission today is to protect the warfighter from biological threats but its scientists also investigate outbreaks of disease among civilians and other threats to public health in recent years it has been involved in testing possible vaccines for ebola after several epidemics of the deadly virus in africasooner or later the truth will come out i believe that the us government knows how covid19 began and where it was going the us government and major corporate arms manufacturers and the rest of the militaryindustrial complex is no stranger to biological weapons adding to their arsenal of nuclear and chemical weapons at their disposal which makes them much more dangerous the truth about covid19 will eventually come out in the meantime as the covid19 pandemic continues a war against russia china iran or venezuela is in the works and a coming economic crisis with an election coming this november seems like 2020 will be the year of a perfect storm'"
      ]
     },
     "execution_count": 19,
     "metadata": {},
     "output_type": "execute_result"
    }
   ],
   "source": [
    "df['title_text'][50]"
   ]
  },
  {
   "cell_type": "code",
   "execution_count": 20,
   "metadata": {},
   "outputs": [],
   "source": [
    "porter = PorterStemmer()\n",
    "\n",
    "def tokenizer_porter(text):\n",
    "    return [porter.stem(word) for word in text.split()]"
   ]
  },
  {
   "cell_type": "code",
   "execution_count": 21,
   "metadata": {},
   "outputs": [],
   "source": [
    "tfidf = TfidfVectorizer(strip_accents=None,\n",
    "                        lowercase=False,\n",
    "                        preprocessor=None,\n",
    "                        tokenizer=tokenizer_porter,\n",
    "                        use_idf=True,\n",
    "                        norm='l2',\n",
    "                        smooth_idf=True)\n",
    "X = tfidf.fit_transform(df['title_text'])\n",
    "y = df.label.values"
   ]
  },
  {
   "cell_type": "code",
   "execution_count": 22,
   "metadata": {},
   "outputs": [
    {
     "name": "stderr",
     "output_type": "stream",
     "text": [
      "[Parallel(n_jobs=-1)]: Using backend LokyBackend with 4 concurrent workers.\n",
      "[Parallel(n_jobs=-1)]: Done   2 out of   5 | elapsed:   29.1s remaining:   43.6s\n",
      "[Parallel(n_jobs=-1)]: Done   5 out of   5 | elapsed:   39.1s finished\n"
     ]
    }
   ],
   "source": [
    "X_train, X_test, y_train, y_test = train_test_split(X, y, random_state=0, test_size=0.5, shuffle=False)\n",
    "\n",
    "lr = LogisticRegressionCV(cv=5, scoring='accuracy', random_state=0, n_jobs=-1, verbose=3, max_iter=300).fit(X_train, y_train)"
   ]
  },
  {
   "cell_type": "code",
   "execution_count": 23,
   "metadata": {},
   "outputs": [
    {
     "name": "stdout",
     "output_type": "stream",
     "text": [
      "Accuracy: 0.9172413793103448\n",
      "              precision    recall  f1-score   support\n",
      "\n",
      "        FAKE       0.92      0.92      0.92       286\n",
      "        TRUE       0.92      0.92      0.92       294\n",
      "\n",
      "    accuracy                           0.92       580\n",
      "   macro avg       0.92      0.92      0.92       580\n",
      "weighted avg       0.92      0.92      0.92       580\n",
      "\n"
     ]
    }
   ],
   "source": [
    "from sklearn.metrics import classification_report, accuracy_score\n",
    "y_pred = lr.predict(X_test)\n",
    "print(\"Accuracy: {}\".format(accuracy_score(y_test, y_pred)))\n",
    "print(classification_report(y_test, y_pred))"
   ]
  },
  {
   "cell_type": "code",
   "execution_count": null,
   "metadata": {},
   "outputs": [],
   "source": []
  }
 ],
 "metadata": {
  "kernelspec": {
   "display_name": "Python 3",
   "language": "python",
   "name": "python3"
  },
  "language_info": {
   "codemirror_mode": {
    "name": "ipython",
    "version": 3
   },
   "file_extension": ".py",
   "mimetype": "text/x-python",
   "name": "python",
   "nbconvert_exporter": "python",
   "pygments_lexer": "ipython3",
   "version": "3.7.4"
  }
 },
 "nbformat": 4,
 "nbformat_minor": 2
}
